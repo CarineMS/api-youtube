{
 "cells": [
  {
   "attachments": {},
   "cell_type": "markdown",
   "metadata": {},
   "source": [
    "Usaremos a api do Youtube disponibilizada pelo Google.\n",
    "\n",
    "**API** é uma interface de programação que possibilita a disponibilização dos dados da empresa em questão. São estabelecidos então **endpoints** para que possamos consultar determinados dados especificada pela empresa.\n",
    "\n",
    "Link da [documentação](https://developers.google.com/youtube/v3/getting-started?hl=pt-br)."
   ]
  },
  {
   "cell_type": "code",
   "execution_count": 80,
   "metadata": {},
   "outputs": [
    {
     "name": "stdout",
     "output_type": "stream",
     "text": [
      "Setup completo!\n"
     ]
    }
   ],
   "source": [
    "# importando as bibliotecas\n",
    "import os\n",
    "import pandas as pd\n",
    "import numpy as np\n",
    "import matplotlib.pyplot as plt\n",
    "from googleapiclient.discovery import build\n",
    "from datetime import datetime\n",
    "\n",
    "print('Setup completo!')"
   ]
  },
  {
   "cell_type": "code",
   "execution_count": 2,
   "metadata": {},
   "outputs": [],
   "source": [
    "youTubeApiKey = \"xxxxxxxxxxxxxxxxxxxxxxxxxxxxxxxxxxxx\""
   ]
  },
  {
   "cell_type": "code",
   "execution_count": 4,
   "metadata": {},
   "outputs": [],
   "source": [
    "youtube = build('youtube', 'v3', developerKey=youTubeApiKey)"
   ]
  },
  {
   "cell_type": "code",
   "execution_count": 9,
   "metadata": {},
   "outputs": [],
   "source": [
    "# Extraindo videos de uma playlist do YT da Nath Araujo\n",
    "\n",
    "playlistId = 'PLOISQg8qoTgWJnHJPPH0KuBuxFaMzphF-'\n",
    "playlistName = '♡DESENHOS'\n",
    "nextPage_token = None"
   ]
  },
  {
   "cell_type": "code",
   "execution_count": null,
   "metadata": {},
   "outputs": [],
   "source": [
    "# while True:\n",
    "#     res = youtube.playlistItems().list(part='snippet', playlistId=playlistId, maxResults=50, pageToken=nextPage_token).execute()\n",
    "#     playlist_videos += res['items']\n",
    "\n",
    "#     nextPage_token = res.get('nextPageToken')\n",
    "\n",
    "#     if nextPage_token in None:\n",
    "#         break"
   ]
  },
  {
   "cell_type": "code",
   "execution_count": 23,
   "metadata": {},
   "outputs": [],
   "source": [
    "playlist_videos = []\n",
    "\n",
    "res = youtube.playlistItems().list(part='snippet', playlistId=playlistId, maxResults=50).execute()\n",
    "playlist_videos = res['items']"
   ]
  },
  {
   "cell_type": "code",
   "execution_count": 24,
   "metadata": {},
   "outputs": [
    {
     "data": {
      "text/plain": [
       "50"
      ]
     },
     "execution_count": 24,
     "metadata": {},
     "output_type": "execute_result"
    }
   ],
   "source": [
    "# Número total de vídeos na playlist\n",
    "len(playlist_videos)"
   ]
  },
  {
   "cell_type": "code",
   "execution_count": 122,
   "metadata": {},
   "outputs": [
    {
     "data": {
      "text/plain": [
       "{'kind': 'youtube#playlistItem',\n",
       " 'etag': 'e5h0IyAP6WS8eFDbEedsqovEtrE',\n",
       " 'id': 'UExPSVNRZzhxb1RnV0puSEpQUEgwS3VCdXhGYU16cGhGLS44M0Q5MzQ0QTcwQzFDMjc5',\n",
       " 'snippet': {'publishedAt': '2022-08-06T13:14:13Z',\n",
       "  'channelId': 'UCG7QZRBje4wS-gyj_AlFdFg',\n",
       "  'title': 'DESENHE UM ROSTO COMIGO | Nath Araújo',\n",
       "  'description': '♡ Produtos que eu amo e indico: https://www.liketoknow.it/nanaths :)\\n\\n♡ Materiais de desenho que eu indico: \\n(compre pelos meus links que eu ganho comissão :D e você não paga nada a mais por isso)\\ncaderno: https://natharaujo.com/collections/frontpage/products/sketchbook-do-samu\\nlapiseira (igual a minha): https://rstyle.me/+s5lX2MnUYVPcvT1YC9LLKw\\nborracha \"dura\": https://rstyle.me/+lI_83oR_PVb72bVBbeIqPA\\nborracha \"mole\": https://rstyle.me/+1ISRO4dSM-oC5kWrFYEAsg\\n\\n♡ MINHA LOJA\\nwww.natharaujo.com - compre aqui o sketchbook novo do samu!\\n\\n• Se inscreva no canal ♡\\n• contato@natharaujo.com\\n\\n♡ REDES SOCIAIS\\nINSTAGRAM: http://instagram.com/nanaths\\nTWITTER: http://twitter.com/nanaths\\nFACEBOOK: https://www.facebook.com/natharaujoart\\n\\n♡ OUÇA MEU PODCAST PERDIDAS NO RECREIO\\nhttp://perdidasnorecreio.com\\n\\n♡ EQUIPAMENTOS\\ncâmera: https://rstyle.me/+zbuwEDZCFTADnzqLvqVbKQ\\niluminação: https://rstyle.me/+H2UOSoZJktWm-QFyVcLtwA\\ncomputador: https://rstyle.me/+_z-Q2mzTLevXt9wYCygu_A\\ncelular: https://rstyle.me/+ZExjx2B6076qLJQLtimcrw\\nmesa digitalizadora: https://rstyle.me/+K80ZfR0PC6a2Xugllq_hHg',\n",
       "  'thumbnails': {'default': {'url': 'https://i.ytimg.com/vi/F1Jra8sjXoQ/default.jpg',\n",
       "    'width': 120,\n",
       "    'height': 90},\n",
       "   'medium': {'url': 'https://i.ytimg.com/vi/F1Jra8sjXoQ/mqdefault.jpg',\n",
       "    'width': 320,\n",
       "    'height': 180},\n",
       "   'high': {'url': 'https://i.ytimg.com/vi/F1Jra8sjXoQ/hqdefault.jpg',\n",
       "    'width': 480,\n",
       "    'height': 360},\n",
       "   'standard': {'url': 'https://i.ytimg.com/vi/F1Jra8sjXoQ/sddefault.jpg',\n",
       "    'width': 640,\n",
       "    'height': 480},\n",
       "   'maxres': {'url': 'https://i.ytimg.com/vi/F1Jra8sjXoQ/maxresdefault.jpg',\n",
       "    'width': 1280,\n",
       "    'height': 720}},\n",
       "  'channelTitle': 'Nath Araujo',\n",
       "  'playlistId': 'PLOISQg8qoTgWJnHJPPH0KuBuxFaMzphF-',\n",
       "  'position': 2,\n",
       "  'resourceId': {'kind': 'youtube#video', 'videoId': 'F1Jra8sjXoQ'},\n",
       "  'videoOwnerChannelTitle': 'Nath Araujo',\n",
       "  'videoOwnerChannelId': 'UCG7QZRBje4wS-gyj_AlFdFg'}}"
      ]
     },
     "execution_count": 122,
     "metadata": {},
     "output_type": "execute_result"
    }
   ],
   "source": [
    "playlist_videos[2]"
   ]
  },
  {
   "cell_type": "code",
   "execution_count": 29,
   "metadata": {},
   "outputs": [
    {
     "data": {
      "text/plain": [
       "'lb1KiMhNlsk'"
      ]
     },
     "execution_count": 29,
     "metadata": {},
     "output_type": "execute_result"
    }
   ],
   "source": [
    "# extrair os ids do videos\n",
    "# como exemplo extraindo o id do primeiro video\n",
    "playlist_videos[0]['snippet']['resourceId']['videoId']"
   ]
  },
  {
   "cell_type": "code",
   "execution_count": 33,
   "metadata": {},
   "outputs": [
    {
     "data": {
      "text/plain": [
       "50"
      ]
     },
     "execution_count": 33,
     "metadata": {},
     "output_type": "execute_result"
    }
   ],
   "source": [
    "video_ids = []\n",
    "\n",
    "for video in playlist_videos:\n",
    "    video_id = video['snippet']['resourceId']['videoId']\n",
    "    video_ids.append(video_id)\n",
    "\n",
    "len(video_ids)\n",
    "#map(lambda x: x['snippet']['resourceId']['videoId'], playlist_videos )"
   ]
  },
  {
   "cell_type": "code",
   "execution_count": 35,
   "metadata": {},
   "outputs": [
    {
     "data": {
      "text/plain": [
       "list"
      ]
     },
     "execution_count": 35,
     "metadata": {},
     "output_type": "execute_result"
    }
   ],
   "source": [
    "type(video_ids)"
   ]
  },
  {
   "attachments": {},
   "cell_type": "markdown",
   "metadata": {},
   "source": [
    "A ideia é utilizar a lista de ids para fazer uma consulta no endpoint de videos da nossa API."
   ]
  },
  {
   "cell_type": "code",
   "execution_count": 38,
   "metadata": {},
   "outputs": [],
   "source": [
    "# Armazenando essa consulta em uma lista de estatisticas\n",
    "stats = []\n",
    "\n",
    "for v_id in video_ids:\n",
    "    res = youtube.videos().list(part='statistics', id=v_id).execute()\n",
    "    stats += res['items']\n"
   ]
  },
  {
   "cell_type": "code",
   "execution_count": 39,
   "metadata": {},
   "outputs": [
    {
     "data": {
      "text/plain": [
       "[{'kind': 'youtube#video',\n",
       "  'etag': 'RJMX1ME9pbhUyp0D7wwA4iTCJmE',\n",
       "  'id': 'lb1KiMhNlsk',\n",
       "  'statistics': {'viewCount': '1422836',\n",
       "   'likeCount': '69315',\n",
       "   'favoriteCount': '0',\n",
       "   'commentCount': '1397'}},\n",
       " {'kind': 'youtube#video',\n",
       "  'etag': 'mucF8xrmQxvM8KLxgsCVckBRtoQ',\n",
       "  'id': 'lMNCOyfag4Q',\n",
       "  'statistics': {'viewCount': '736921',\n",
       "   'likeCount': '41530',\n",
       "   'favoriteCount': '0',\n",
       "   'commentCount': '2121'}},\n",
       " {'kind': 'youtube#video',\n",
       "  'etag': 'GiVnfaBNahbCeCUvx0lQqs2mszU',\n",
       "  'id': 'F1Jra8sjXoQ',\n",
       "  'statistics': {'viewCount': '628204',\n",
       "   'likeCount': '35768',\n",
       "   'favoriteCount': '0',\n",
       "   'commentCount': '597'}},\n",
       " {'kind': 'youtube#video',\n",
       "  'etag': '9fr-uqKONI6csN33IhC76gTA0pw',\n",
       "  'id': 'fZEhiXpLVrc',\n",
       "  'statistics': {'viewCount': '513192',\n",
       "   'likeCount': '26233',\n",
       "   'favoriteCount': '0',\n",
       "   'commentCount': '580'}},\n",
       " {'kind': 'youtube#video',\n",
       "  'etag': 's9dlyAqzxHTS1JSjGm1lPQZkyh0',\n",
       "  'id': 'NQI74V6X4aM',\n",
       "  'statistics': {'viewCount': '448547',\n",
       "   'likeCount': '25548',\n",
       "   'favoriteCount': '0',\n",
       "   'commentCount': '641'}},\n",
       " {'kind': 'youtube#video',\n",
       "  'etag': 'Q6_kwz0mGX_jK_FcTuPlAYDNIYA',\n",
       "  'id': 'g2p2MiFq3ak',\n",
       "  'statistics': {'viewCount': '424779',\n",
       "   'likeCount': '30804',\n",
       "   'favoriteCount': '0',\n",
       "   'commentCount': '1085'}},\n",
       " {'kind': 'youtube#video',\n",
       "  'etag': 'IYMSPdpElSTuBm83wBRme1NT5Es',\n",
       "  'id': '41DYUnRl9KM',\n",
       "  'statistics': {'viewCount': '413550',\n",
       "   'likeCount': '17965',\n",
       "   'favoriteCount': '0',\n",
       "   'commentCount': '525'}},\n",
       " {'kind': 'youtube#video',\n",
       "  'etag': 'D83N85vbFmCEFKzXfn3rPulu_3A',\n",
       "  'id': 'w8lRk0_NipM',\n",
       "  'statistics': {'viewCount': '365788',\n",
       "   'likeCount': '23747',\n",
       "   'favoriteCount': '0',\n",
       "   'commentCount': '507'}},\n",
       " {'kind': 'youtube#video',\n",
       "  'etag': 'SuukU1M70cYlIL3mM1_CXta0HLc',\n",
       "  'id': 'LazFxMH1zMM',\n",
       "  'statistics': {'viewCount': '353210',\n",
       "   'likeCount': '21536',\n",
       "   'favoriteCount': '0',\n",
       "   'commentCount': '626'}},\n",
       " {'kind': 'youtube#video',\n",
       "  'etag': '3LaMonyIDC-A2a7yZnHjt-r0vvE',\n",
       "  'id': 'uqkRyL1seRE',\n",
       "  'statistics': {'viewCount': '341040',\n",
       "   'likeCount': '15542',\n",
       "   'favoriteCount': '0',\n",
       "   'commentCount': '288'}},\n",
       " {'kind': 'youtube#video',\n",
       "  'etag': 'Lnhg1sEARlbeUax4A4QjGgxAiyY',\n",
       "  'id': 'zG6AlVBzuok',\n",
       "  'statistics': {'viewCount': '301975',\n",
       "   'likeCount': '35703',\n",
       "   'favoriteCount': '0',\n",
       "   'commentCount': '1497'}},\n",
       " {'kind': 'youtube#video',\n",
       "  'etag': 'B0xWWTMbcdJ5c1ND_f3Oc5p-jJo',\n",
       "  'id': 'ZQCubUi57rQ',\n",
       "  'statistics': {'viewCount': '296497',\n",
       "   'likeCount': '21362',\n",
       "   'favoriteCount': '0',\n",
       "   'commentCount': '473'}},\n",
       " {'kind': 'youtube#video',\n",
       "  'etag': 'VBlfQRHCoyqyoGeGHwFhvPF5siQ',\n",
       "  'id': '2NTGjE4lLJU',\n",
       "  'statistics': {'viewCount': '292004',\n",
       "   'likeCount': '18209',\n",
       "   'favoriteCount': '0',\n",
       "   'commentCount': '466'}},\n",
       " {'kind': 'youtube#video',\n",
       "  'etag': 'BmqtGtdY15ZO9wrAOCdfJLwKiQ0',\n",
       "  'id': 'aEZLBS6fGqU',\n",
       "  'statistics': {'viewCount': '291844',\n",
       "   'likeCount': '22073',\n",
       "   'favoriteCount': '0',\n",
       "   'commentCount': '772'}},\n",
       " {'kind': 'youtube#video',\n",
       "  'etag': 'LlD342LxV_zslrRMrEMPwZfjLIk',\n",
       "  'id': 'zyB53EoCoJ0',\n",
       "  'statistics': {'viewCount': '280660',\n",
       "   'likeCount': '14559',\n",
       "   'favoriteCount': '0',\n",
       "   'commentCount': '281'}},\n",
       " {'kind': 'youtube#video',\n",
       "  'etag': '7IDGluElCbmR9TnQX0TfjgK1MaY',\n",
       "  'id': '_zhkGPoCMyw',\n",
       "  'statistics': {'viewCount': '275544',\n",
       "   'likeCount': '32807',\n",
       "   'favoriteCount': '0',\n",
       "   'commentCount': '711'}},\n",
       " {'kind': 'youtube#video',\n",
       "  'etag': '4WoIvSkeL2AMUCQVfzvNkQ0BnXU',\n",
       "  'id': 'D2CX3KULwZw',\n",
       "  'statistics': {'viewCount': '248729',\n",
       "   'likeCount': '20294',\n",
       "   'favoriteCount': '0',\n",
       "   'commentCount': '586'}},\n",
       " {'kind': 'youtube#video',\n",
       "  'etag': 'ykFwAxt3reGaPlHDlvY1bTdF-qk',\n",
       "  'id': 'rD5D-Iu3XiI',\n",
       "  'statistics': {'viewCount': '244574',\n",
       "   'likeCount': '16371',\n",
       "   'favoriteCount': '0',\n",
       "   'commentCount': '309'}},\n",
       " {'kind': 'youtube#video',\n",
       "  'etag': 'L5tsiYNav0mu5GyDULxLW5hzJBE',\n",
       "  'id': 'Xdsz10_2iIk',\n",
       "  'statistics': {'viewCount': '237499',\n",
       "   'likeCount': '15376',\n",
       "   'favoriteCount': '0',\n",
       "   'commentCount': '401'}},\n",
       " {'kind': 'youtube#video',\n",
       "  'etag': 'QYTUrpUf8pYl5aj2gb-Ufwyy35k',\n",
       "  'id': 'yRqgkQo6BZ8',\n",
       "  'statistics': {'viewCount': '222239',\n",
       "   'likeCount': '15499',\n",
       "   'favoriteCount': '0',\n",
       "   'commentCount': '274'}},\n",
       " {'kind': 'youtube#video',\n",
       "  'etag': 'ibHCpefGn09bYsiP0GYB8CgbvtU',\n",
       "  'id': 'ySr2_kxVALs',\n",
       "  'statistics': {'viewCount': '220745',\n",
       "   'likeCount': '18844',\n",
       "   'favoriteCount': '0',\n",
       "   'commentCount': '596'}},\n",
       " {'kind': 'youtube#video',\n",
       "  'etag': 'F-aHlmPeDrhFfZjsbc8kdjeDCAA',\n",
       "  'id': 'vs7SrMEuDdw',\n",
       "  'statistics': {'viewCount': '217191',\n",
       "   'likeCount': '12008',\n",
       "   'favoriteCount': '0',\n",
       "   'commentCount': '202'}},\n",
       " {'kind': 'youtube#video',\n",
       "  'etag': '-BLFP_BDFMbIbMn99yJ2xUNVNlU',\n",
       "  'id': 'fgZM66DJHnI',\n",
       "  'statistics': {'viewCount': '213247',\n",
       "   'likeCount': '26669',\n",
       "   'favoriteCount': '0',\n",
       "   'commentCount': '1187'}},\n",
       " {'kind': 'youtube#video',\n",
       "  'etag': 'x_0u-XmuVTvbY_WLobfHrP_kR20',\n",
       "  'id': 'zepZq_PuoTM',\n",
       "  'statistics': {'viewCount': '208241',\n",
       "   'likeCount': '20135',\n",
       "   'favoriteCount': '0',\n",
       "   'commentCount': '922'}},\n",
       " {'kind': 'youtube#video',\n",
       "  'etag': 'rPQnGufuFmpUcOn6rVgt528xG30',\n",
       "  'id': 'dsih1374pr0',\n",
       "  'statistics': {'viewCount': '205210',\n",
       "   'likeCount': '11891',\n",
       "   'favoriteCount': '0',\n",
       "   'commentCount': '223'}},\n",
       " {'kind': 'youtube#video',\n",
       "  'etag': 'L-b3xIq0ZkT69h3R5en-WkIZ8Hc',\n",
       "  'id': 'zSyZv2HZZvU',\n",
       "  'statistics': {'viewCount': '201091',\n",
       "   'likeCount': '14131',\n",
       "   'favoriteCount': '0',\n",
       "   'commentCount': '989'}},\n",
       " {'kind': 'youtube#video',\n",
       "  'etag': 'zByQsk4h0UJA5M15gmW9AqRwFxE',\n",
       "  'id': 'xZuaNb0wjLc',\n",
       "  'statistics': {'viewCount': '200840',\n",
       "   'likeCount': '18383',\n",
       "   'favoriteCount': '0',\n",
       "   'commentCount': '511'}},\n",
       " {'kind': 'youtube#video',\n",
       "  'etag': 'Y5XZd4hYWLM5EoV4kH2nSgQifbk',\n",
       "  'id': '7l1btNc2dK8',\n",
       "  'statistics': {'viewCount': '196612',\n",
       "   'likeCount': '22639',\n",
       "   'favoriteCount': '0',\n",
       "   'commentCount': '1063'}},\n",
       " {'kind': 'youtube#video',\n",
       "  'etag': 'izcw_zqk_PwK8l0Z0SoC_dbOdOI',\n",
       "  'id': 'W8Wnp2_D_74',\n",
       "  'statistics': {'viewCount': '193074',\n",
       "   'likeCount': '13976',\n",
       "   'favoriteCount': '0',\n",
       "   'commentCount': '300'}},\n",
       " {'kind': 'youtube#video',\n",
       "  'etag': 'Ufu5zbxi4vqIQkk11ESNw6a9vpo',\n",
       "  'id': 'M3HJOLqtO8k',\n",
       "  'statistics': {'viewCount': '189575',\n",
       "   'likeCount': '22351',\n",
       "   'favoriteCount': '0',\n",
       "   'commentCount': '396'}},\n",
       " {'kind': 'youtube#video',\n",
       "  'etag': 'FvwLrgdWzMvhypAd5IanjjUD44E',\n",
       "  'id': 'SHCA5TVBGfk',\n",
       "  'statistics': {'viewCount': '188527',\n",
       "   'likeCount': '22677',\n",
       "   'favoriteCount': '0',\n",
       "   'commentCount': '736'}},\n",
       " {'kind': 'youtube#video',\n",
       "  'etag': 'dXwGMYAEPTYvhzma8jCFhvNJWdM',\n",
       "  'id': 'Z3N-_aTv9iI',\n",
       "  'statistics': {'viewCount': '187909',\n",
       "   'likeCount': '14293',\n",
       "   'favoriteCount': '0',\n",
       "   'commentCount': '493'}},\n",
       " {'kind': 'youtube#video',\n",
       "  'etag': '701qQM_06bKyMqeRCd30nvyFwKs',\n",
       "  'id': '5OQPgxis_c4',\n",
       "  'statistics': {'viewCount': '185551',\n",
       "   'likeCount': '17274',\n",
       "   'favoriteCount': '0',\n",
       "   'commentCount': '333'}},\n",
       " {'kind': 'youtube#video',\n",
       "  'etag': 'RAp08exqrXirKJXNPr_1MbnF_IA',\n",
       "  'id': '58aoGcFrNMA',\n",
       "  'statistics': {'viewCount': '180260',\n",
       "   'likeCount': '14861',\n",
       "   'favoriteCount': '0',\n",
       "   'commentCount': '764'}},\n",
       " {'kind': 'youtube#video',\n",
       "  'etag': 'BNjmkegbWChW5pdaZ1DUzAomP5o',\n",
       "  'id': '-H7JqWe0U4s',\n",
       "  'statistics': {'viewCount': '177989',\n",
       "   'likeCount': '22913',\n",
       "   'favoriteCount': '0',\n",
       "   'commentCount': '1226'}},\n",
       " {'kind': 'youtube#video',\n",
       "  'etag': 'L5bKjmGHBMyRY6D1yJYUuaKHDrA',\n",
       "  'id': '6hJMftu6VDg',\n",
       "  'statistics': {'viewCount': '175032',\n",
       "   'likeCount': '21902',\n",
       "   'favoriteCount': '0',\n",
       "   'commentCount': '872'}},\n",
       " {'kind': 'youtube#video',\n",
       "  'etag': 'Favoo7DGl7VexIHfsvPMNoZq0bc',\n",
       "  'id': '9s4tCb7p1eg',\n",
       "  'statistics': {'viewCount': '172503',\n",
       "   'likeCount': '28399',\n",
       "   'favoriteCount': '0',\n",
       "   'commentCount': '941'}},\n",
       " {'kind': 'youtube#video',\n",
       "  'etag': 'W-tCwdcusD-08JSZ4ZY7Bv9HD9U',\n",
       "  'id': 'MOcE3dcOHEA',\n",
       "  'statistics': {'viewCount': '171475',\n",
       "   'likeCount': '11854',\n",
       "   'favoriteCount': '0',\n",
       "   'commentCount': '188'}},\n",
       " {'kind': 'youtube#video',\n",
       "  'etag': 'OuQpVCnWOpNVODBw8hEQV-s-zzY',\n",
       "  'id': 'dVlZ2TanYVc',\n",
       "  'statistics': {'viewCount': '169546',\n",
       "   'likeCount': '14659',\n",
       "   'favoriteCount': '0',\n",
       "   'commentCount': '294'}},\n",
       " {'kind': 'youtube#video',\n",
       "  'etag': 'FHcVjJ2iV1uaYJJFbhnjK3jktp8',\n",
       "  'id': 'bsgEGyYBjIY',\n",
       "  'statistics': {'viewCount': '169283',\n",
       "   'likeCount': '22331',\n",
       "   'favoriteCount': '0',\n",
       "   'commentCount': '844'}},\n",
       " {'kind': 'youtube#video',\n",
       "  'etag': '-UDg2JEIr1SET-QjRyLowSt3FuA',\n",
       "  'id': 'TBzbIRsNyd0',\n",
       "  'statistics': {'viewCount': '166063',\n",
       "   'likeCount': '20860',\n",
       "   'favoriteCount': '0',\n",
       "   'commentCount': '475'}},\n",
       " {'kind': 'youtube#video',\n",
       "  'etag': 'cADieOyK1rpAY1ebYDnSqGXsU-c',\n",
       "  'id': 'bpaa9KdZraE',\n",
       "  'statistics': {'viewCount': '162742',\n",
       "   'likeCount': '9997',\n",
       "   'favoriteCount': '0',\n",
       "   'commentCount': '281'}},\n",
       " {'kind': 'youtube#video',\n",
       "  'etag': 'PgMPaPklpZjBXrLduxp4LfEnzUA',\n",
       "  'id': '6EXZslvCPEw',\n",
       "  'statistics': {'viewCount': '162368',\n",
       "   'likeCount': '10608',\n",
       "   'favoriteCount': '0',\n",
       "   'commentCount': '286'}},\n",
       " {'kind': 'youtube#video',\n",
       "  'etag': 'xcVkFlZpm77Qj827Dhg-ogOWV6U',\n",
       "  'id': 's-VUHpGiqhA',\n",
       "  'statistics': {'viewCount': '155881',\n",
       "   'likeCount': '26428',\n",
       "   'favoriteCount': '0',\n",
       "   'commentCount': '1896'}},\n",
       " {'kind': 'youtube#video',\n",
       "  'etag': 'c3lRHojPObUysetjxyIQInha0zA',\n",
       "  'id': 'tF-BNCswsPQ',\n",
       "  'statistics': {'viewCount': '154496',\n",
       "   'likeCount': '23871',\n",
       "   'favoriteCount': '0',\n",
       "   'commentCount': '712'}},\n",
       " {'kind': 'youtube#video',\n",
       "  'etag': 'DLajXx3tDJH_pu2vJ9FeHyJIWGM',\n",
       "  'id': 'eL5cflf_kLA',\n",
       "  'statistics': {'viewCount': '154346',\n",
       "   'likeCount': '9894',\n",
       "   'favoriteCount': '0',\n",
       "   'commentCount': '247'}},\n",
       " {'kind': 'youtube#video',\n",
       "  'etag': 'UevhrOKBGBJVUr4pou9FPaVmAYk',\n",
       "  'id': 'mhXLdSiIdOU',\n",
       "  'statistics': {'viewCount': '154318',\n",
       "   'likeCount': '19002',\n",
       "   'favoriteCount': '0',\n",
       "   'commentCount': '1057'}},\n",
       " {'kind': 'youtube#video',\n",
       "  'etag': '_hR1Y-iiOH4JqyDOGupP_J1w5kQ',\n",
       "  'id': 'BvIqc2hVZmk',\n",
       "  'statistics': {'viewCount': '153400',\n",
       "   'likeCount': '11633',\n",
       "   'favoriteCount': '0',\n",
       "   'commentCount': '316'}},\n",
       " {'kind': 'youtube#video',\n",
       "  'etag': 'n95MdMgjeVL2NiJEMi6h005ISbg',\n",
       "  'id': 'w8dilpwWhuY',\n",
       "  'statistics': {'viewCount': '151984',\n",
       "   'likeCount': '20555',\n",
       "   'favoriteCount': '0',\n",
       "   'commentCount': '999'}},\n",
       " {'kind': 'youtube#video',\n",
       "  'etag': 'rbBKM7FEclbimF00NptEaUBunjY',\n",
       "  'id': 'b0h8KqBOj9w',\n",
       "  'statistics': {'viewCount': '149230',\n",
       "   'likeCount': '16153',\n",
       "   'favoriteCount': '0',\n",
       "   'commentCount': '654'}}]"
      ]
     },
     "execution_count": 39,
     "metadata": {},
     "output_type": "execute_result"
    }
   ],
   "source": [
    "# Dados estraidos do youtube\n",
    "stats"
   ]
  },
  {
   "attachments": {},
   "cell_type": "markdown",
   "metadata": {},
   "source": [
    "### Selecionando informações para construir um dataset"
   ]
  },
  {
   "cell_type": "code",
   "execution_count": 48,
   "metadata": {},
   "outputs": [
    {
     "data": {
      "text/plain": [
       "{'kind': 'youtube#playlistItem',\n",
       " 'etag': 'pYNKHn7ockxYEjhxo-_slmNJFEo',\n",
       " 'id': 'UExPSVNRZzhxb1RnV0puSEpQUEgwS3VCdXhGYU16cGhGLS40QTY5NjQzQkQzMjgwNjhD',\n",
       " 'snippet': {'publishedAt': '2022-08-06T13:14:13Z',\n",
       "  'channelId': 'UCG7QZRBje4wS-gyj_AlFdFg',\n",
       "  'title': 'COMO DESENHAR CORPO FEMININO | Nath Araújo',\n",
       "  'description': '• Se inscreva no canal ♡\\n• contato@natharaujo.com\\n\\nINSTAGRAM: http://instagram.com/nanaths\\nTWITTER: http://twitter.com/nanaths\\nFACEBOOK: https://www.facebook.com/natharaujoart',\n",
       "  'thumbnails': {'default': {'url': 'https://i.ytimg.com/vi/lb1KiMhNlsk/default.jpg',\n",
       "    'width': 120,\n",
       "    'height': 90},\n",
       "   'medium': {'url': 'https://i.ytimg.com/vi/lb1KiMhNlsk/mqdefault.jpg',\n",
       "    'width': 320,\n",
       "    'height': 180},\n",
       "   'high': {'url': 'https://i.ytimg.com/vi/lb1KiMhNlsk/hqdefault.jpg',\n",
       "    'width': 480,\n",
       "    'height': 360},\n",
       "   'standard': {'url': 'https://i.ytimg.com/vi/lb1KiMhNlsk/sddefault.jpg',\n",
       "    'width': 640,\n",
       "    'height': 480},\n",
       "   'maxres': {'url': 'https://i.ytimg.com/vi/lb1KiMhNlsk/maxresdefault.jpg',\n",
       "    'width': 1280,\n",
       "    'height': 720}},\n",
       "  'channelTitle': 'Nath Araujo',\n",
       "  'playlistId': 'PLOISQg8qoTgWJnHJPPH0KuBuxFaMzphF-',\n",
       "  'position': 0,\n",
       "  'resourceId': {'kind': 'youtube#video', 'videoId': 'lb1KiMhNlsk'},\n",
       "  'videoOwnerChannelTitle': 'Nath Araujo',\n",
       "  'videoOwnerChannelId': 'UCG7QZRBje4wS-gyj_AlFdFg'}}"
      ]
     },
     "execution_count": 48,
     "metadata": {},
     "output_type": "execute_result"
    }
   ],
   "source": [
    "playlist_videos[0]"
   ]
  },
  {
   "cell_type": "code",
   "execution_count": 46,
   "metadata": {},
   "outputs": [],
   "source": [
    "video_title = []\n",
    "for video in playlist_videos:\n",
    "    vt = video['snippet']['title']\n",
    "    video_title.append(vt)\n",
    "\n",
    "url_thumbnails = []\n",
    "for video in playlist_videos:\n",
    "    ut = video['snippet']['thumbnails']['high']['url']\n",
    "    url_thumbnails.append(ut)\n",
    "\n",
    "published_date = []\n",
    "for video in playlist_videos:\n",
    "    pdate = video['snippet']['publishedAt']\n",
    "    published_date.append(pdate)\n",
    "\n",
    "video_description = []\n",
    "for video in playlist_videos:\n",
    "    vd = video['snippet']['description']\n",
    "    video_description.append(vd)\n",
    "\n",
    "videoId = []\n",
    "for video in playlist_videos:\n",
    "    vId = video['snippet']['resourceId']['videoId']\n",
    "    videoId.append(vId)\n",
    "    "
   ]
  },
  {
   "cell_type": "code",
   "execution_count": 52,
   "metadata": {},
   "outputs": [
    {
     "data": {
      "text/plain": [
       "{'viewCount': '1422836',\n",
       " 'likeCount': '69315',\n",
       " 'favoriteCount': '0',\n",
       " 'commentCount': '1397'}"
      ]
     },
     "execution_count": 52,
     "metadata": {},
     "output_type": "execute_result"
    }
   ],
   "source": [
    "stats[0]['statistics']"
   ]
  },
  {
   "cell_type": "code",
   "execution_count": 53,
   "metadata": {},
   "outputs": [],
   "source": [
    "liked = []\n",
    "for video_stats in stats:\n",
    "    like = video_stats['statistics']['likeCount']\n",
    "    liked.append(like)\n",
    "\n",
    "view = []\n",
    "for video_stats in stats:\n",
    "    viewer = video_stats['statistics']['viewCount']\n",
    "    view.append(viewer)\n",
    "\n",
    "fav = []\n",
    "for video_stats in stats:\n",
    "    favorite = video_stats['statistics']['favoriteCount']\n",
    "    fav.append(favorite)\n",
    "\n",
    "comments = []\n",
    "for video_stats in stats:\n",
    "    commies = video_stats['statistics']['commentCount']\n",
    "    comments.append(commies)"
   ]
  },
  {
   "cell_type": "code",
   "execution_count": 55,
   "metadata": {},
   "outputs": [],
   "source": [
    "# tratativa da data\n",
    "\n",
    "extraction_date = [str(datetime.now())]*len(video_ids)"
   ]
  },
  {
   "cell_type": "code",
   "execution_count": 56,
   "metadata": {},
   "outputs": [
    {
     "data": {
      "text/html": [
       "<div>\n",
       "<style scoped>\n",
       "    .dataframe tbody tr th:only-of-type {\n",
       "        vertical-align: middle;\n",
       "    }\n",
       "\n",
       "    .dataframe tbody tr th {\n",
       "        vertical-align: top;\n",
       "    }\n",
       "\n",
       "    .dataframe thead th {\n",
       "        text-align: right;\n",
       "    }\n",
       "</style>\n",
       "<table border=\"1\" class=\"dataframe\">\n",
       "  <thead>\n",
       "    <tr style=\"text-align: right;\">\n",
       "      <th></th>\n",
       "      <th>title</th>\n",
       "      <th>url_thumbnails</th>\n",
       "      <th>published_date</th>\n",
       "      <th>extraction_date</th>\n",
       "      <th>video_description</th>\n",
       "      <th>videoId</th>\n",
       "      <th>liked</th>\n",
       "      <th>view</th>\n",
       "      <th>fav</th>\n",
       "      <th>comments</th>\n",
       "    </tr>\n",
       "  </thead>\n",
       "  <tbody>\n",
       "    <tr>\n",
       "      <th>0</th>\n",
       "      <td>COMO DESENHAR CORPO FEMININO | Nath Araújo</td>\n",
       "      <td>https://i.ytimg.com/vi/lb1KiMhNlsk/hqdefault.jpg</td>\n",
       "      <td>2022-08-06T13:14:13Z</td>\n",
       "      <td>2023-06-20 20:27:25.274901</td>\n",
       "      <td>• Se inscreva no canal ♡\\n• contato@natharaujo...</td>\n",
       "      <td>lb1KiMhNlsk</td>\n",
       "      <td>69315</td>\n",
       "      <td>1422836</td>\n",
       "      <td>0</td>\n",
       "      <td>1397</td>\n",
       "    </tr>\n",
       "    <tr>\n",
       "      <th>1</th>\n",
       "      <td>MATERIAL CARO x BARATO | comparando marcadores</td>\n",
       "      <td>https://i.ytimg.com/vi/lMNCOyfag4Q/hqdefault.jpg</td>\n",
       "      <td>2022-08-06T13:14:13Z</td>\n",
       "      <td>2023-06-20 20:27:25.274901</td>\n",
       "      <td>♡ Produtos que eu amo e indico: https://www.li...</td>\n",
       "      <td>lMNCOyfag4Q</td>\n",
       "      <td>41530</td>\n",
       "      <td>736921</td>\n",
       "      <td>0</td>\n",
       "      <td>2121</td>\n",
       "    </tr>\n",
       "    <tr>\n",
       "      <th>2</th>\n",
       "      <td>DESENHE UM ROSTO COMIGO | Nath Araújo</td>\n",
       "      <td>https://i.ytimg.com/vi/F1Jra8sjXoQ/hqdefault.jpg</td>\n",
       "      <td>2022-08-06T13:14:13Z</td>\n",
       "      <td>2023-06-20 20:27:25.274901</td>\n",
       "      <td>♡ Produtos que eu amo e indico: https://www.li...</td>\n",
       "      <td>F1Jra8sjXoQ</td>\n",
       "      <td>35768</td>\n",
       "      <td>628204</td>\n",
       "      <td>0</td>\n",
       "      <td>597</td>\n",
       "    </tr>\n",
       "    <tr>\n",
       "      <th>3</th>\n",
       "      <td>DESENHO COMPLETO PARTE 1 | LÁPIS | Nath Araújo</td>\n",
       "      <td>https://i.ytimg.com/vi/fZEhiXpLVrc/hqdefault.jpg</td>\n",
       "      <td>2022-08-06T13:14:13Z</td>\n",
       "      <td>2023-06-20 20:27:25.274901</td>\n",
       "      <td>♡ Produtos que eu amo e indico: https://www.li...</td>\n",
       "      <td>fZEhiXpLVrc</td>\n",
       "      <td>26233</td>\n",
       "      <td>513192</td>\n",
       "      <td>0</td>\n",
       "      <td>580</td>\n",
       "    </tr>\n",
       "    <tr>\n",
       "      <th>4</th>\n",
       "      <td>Desenhando em 30 MINUTOS, 3 MINUTOS e 30 SEGUN...</td>\n",
       "      <td>https://i.ytimg.com/vi/NQI74V6X4aM/hqdefault.jpg</td>\n",
       "      <td>2022-08-06T13:14:13Z</td>\n",
       "      <td>2023-06-20 20:27:25.274901</td>\n",
       "      <td>Aceitei o desafio de fazer um desenho em 30 mi...</td>\n",
       "      <td>NQI74V6X4aM</td>\n",
       "      <td>25548</td>\n",
       "      <td>448547</td>\n",
       "      <td>0</td>\n",
       "      <td>641</td>\n",
       "    </tr>\n",
       "  </tbody>\n",
       "</table>\n",
       "</div>"
      ],
      "text/plain": [
       "                                               title  \\\n",
       "0         COMO DESENHAR CORPO FEMININO | Nath Araújo   \n",
       "1     MATERIAL CARO x BARATO | comparando marcadores   \n",
       "2              DESENHE UM ROSTO COMIGO | Nath Araújo   \n",
       "3     DESENHO COMPLETO PARTE 1 | LÁPIS | Nath Araújo   \n",
       "4  Desenhando em 30 MINUTOS, 3 MINUTOS e 30 SEGUN...   \n",
       "\n",
       "                                     url_thumbnails        published_date  \\\n",
       "0  https://i.ytimg.com/vi/lb1KiMhNlsk/hqdefault.jpg  2022-08-06T13:14:13Z   \n",
       "1  https://i.ytimg.com/vi/lMNCOyfag4Q/hqdefault.jpg  2022-08-06T13:14:13Z   \n",
       "2  https://i.ytimg.com/vi/F1Jra8sjXoQ/hqdefault.jpg  2022-08-06T13:14:13Z   \n",
       "3  https://i.ytimg.com/vi/fZEhiXpLVrc/hqdefault.jpg  2022-08-06T13:14:13Z   \n",
       "4  https://i.ytimg.com/vi/NQI74V6X4aM/hqdefault.jpg  2022-08-06T13:14:13Z   \n",
       "\n",
       "              extraction_date  \\\n",
       "0  2023-06-20 20:27:25.274901   \n",
       "1  2023-06-20 20:27:25.274901   \n",
       "2  2023-06-20 20:27:25.274901   \n",
       "3  2023-06-20 20:27:25.274901   \n",
       "4  2023-06-20 20:27:25.274901   \n",
       "\n",
       "                                   video_description      videoId  liked  \\\n",
       "0  • Se inscreva no canal ♡\\n• contato@natharaujo...  lb1KiMhNlsk  69315   \n",
       "1  ♡ Produtos que eu amo e indico: https://www.li...  lMNCOyfag4Q  41530   \n",
       "2  ♡ Produtos que eu amo e indico: https://www.li...  F1Jra8sjXoQ  35768   \n",
       "3  ♡ Produtos que eu amo e indico: https://www.li...  fZEhiXpLVrc  26233   \n",
       "4  Aceitei o desafio de fazer um desenho em 30 mi...  NQI74V6X4aM  25548   \n",
       "\n",
       "      view fav comments  \n",
       "0  1422836   0     1397  \n",
       "1   736921   0     2121  \n",
       "2   628204   0      597  \n",
       "3   513192   0      580  \n",
       "4   448547   0      641  "
      ]
     },
     "execution_count": 56,
     "metadata": {},
     "output_type": "execute_result"
    }
   ],
   "source": [
    "playlist_df = pd.DataFrame({'title':video_title,\n",
    "                            'url_thumbnails':url_thumbnails,\n",
    "                            'published_date':published_date,\n",
    "                            'extraction_date':extraction_date,\n",
    "                            'video_description':video_description,\n",
    "                            'videoId':videoId,\n",
    "                            'liked':liked,\n",
    "                            'view':view,\n",
    "                            'fav':fav,\n",
    "                            'comments':comments})\n",
    "playlist_df.head()"
   ]
  },
  {
   "attachments": {},
   "cell_type": "markdown",
   "metadata": {},
   "source": [
    "#### Analise de Dados dos primeiros 50 vídeos da playlist 'DESENHO' da Nath Araujo"
   ]
  },
  {
   "attachments": {},
   "cell_type": "markdown",
   "metadata": {},
   "source": [
    "##### 1. Formulação do Problema"
   ]
  },
  {
   "attachments": {},
   "cell_type": "markdown",
   "metadata": {},
   "source": [
    "O Youtube é um importante meio de comunicação gratuito. Além de disponibilizar uma grande gama de vídeos segmentado por assuntos e por perfis de usuários ele possibilita a globalização de conteúdo de fontes diversas. Após o bum de usuários e conteúdos dos anos 10 numerosos artistas migraram e se adptaram a plataforma afim de difundir seus produtos, incluimos aqui os influenciadores.\n",
    "\n",
    "Nath Araújo entra nesse universo como youtuber, artista, ilustradora, escritora e criadora de conteúdo digital sobre moda e beleza. \n",
    "\n",
    "Além de fã e admiradora da sua arte eu consumo os seus videos e tenho interesse em aplicar o aprendizado desenvolvido nesse notebook com o objetivo final de identificar algum padrão nos dados públicos de seus vídeos.\n",
    "\n",
    "Fonte da Playlist: https://youtube.com/playlist?list=PLOISQg8qoTgWJnHJPPH0KuBuxFaMzphF-\n",
    "\n",
    "\n",
    "💗 [Instagram da Nanaths](https://www.instagram.com/nanaths/) 💗"
   ]
  },
  {
   "attachments": {},
   "cell_type": "markdown",
   "metadata": {},
   "source": [
    "Glossário do banco de dados:\n",
    "\n",
    "* title: título do vídeo do youtube\n",
    "* url_thumbnails: endereço das URLs pra miniaturas\n",
    "* published_date: data ehora de publicação\n",
    "* extraction_date: data e hora da extração\n",
    "* video_description: descrição\n",
    "* videoId: dígito identificador\n",
    "* liked: total de reações positivas (likes)\n",
    "* view: total de visualização\n",
    "* fav: total de favoritados\n",
    "* comments: total de comentários"
   ]
  },
  {
   "cell_type": "code",
   "execution_count": 57,
   "metadata": {},
   "outputs": [
    {
     "data": {
      "text/plain": [
       "Index(['title', 'url_thumbnails', 'published_date', 'extraction_date',\n",
       "       'video_description', 'videoId', 'liked', 'view', 'fav', 'comments'],\n",
       "      dtype='object')"
      ]
     },
     "execution_count": 57,
     "metadata": {},
     "output_type": "execute_result"
    }
   ],
   "source": [
    "playlist_df.columns"
   ]
  },
  {
   "cell_type": "code",
   "execution_count": 121,
   "metadata": {},
   "outputs": [
    {
     "data": {
      "text/html": [
       "<div>\n",
       "<style scoped>\n",
       "    .dataframe tbody tr th:only-of-type {\n",
       "        vertical-align: middle;\n",
       "    }\n",
       "\n",
       "    .dataframe tbody tr th {\n",
       "        vertical-align: top;\n",
       "    }\n",
       "\n",
       "    .dataframe thead th {\n",
       "        text-align: right;\n",
       "    }\n",
       "</style>\n",
       "<table border=\"1\" class=\"dataframe\">\n",
       "  <thead>\n",
       "    <tr style=\"text-align: right;\">\n",
       "      <th></th>\n",
       "      <th>title</th>\n",
       "      <th>published_date</th>\n",
       "      <th>extraction_date</th>\n",
       "      <th>liked</th>\n",
       "      <th>view</th>\n",
       "      <th>fav</th>\n",
       "      <th>comments</th>\n",
       "    </tr>\n",
       "  </thead>\n",
       "  <tbody>\n",
       "    <tr>\n",
       "      <th>0</th>\n",
       "      <td>COMO DESENHAR CORPO FEMININO | Nath Araújo</td>\n",
       "      <td>2022-08-06T13:14:13Z</td>\n",
       "      <td>2023-06-20 20:27:25.274901</td>\n",
       "      <td>69315</td>\n",
       "      <td>1422836</td>\n",
       "      <td>0</td>\n",
       "      <td>1397</td>\n",
       "    </tr>\n",
       "    <tr>\n",
       "      <th>1</th>\n",
       "      <td>MATERIAL CARO x BARATO | comparando marcadores</td>\n",
       "      <td>2022-08-06T13:14:13Z</td>\n",
       "      <td>2023-06-20 20:27:25.274901</td>\n",
       "      <td>41530</td>\n",
       "      <td>736921</td>\n",
       "      <td>0</td>\n",
       "      <td>2121</td>\n",
       "    </tr>\n",
       "    <tr>\n",
       "      <th>2</th>\n",
       "      <td>DESENHE UM ROSTO COMIGO | Nath Araújo</td>\n",
       "      <td>2022-08-06T13:14:13Z</td>\n",
       "      <td>2023-06-20 20:27:25.274901</td>\n",
       "      <td>35768</td>\n",
       "      <td>628204</td>\n",
       "      <td>0</td>\n",
       "      <td>597</td>\n",
       "    </tr>\n",
       "    <tr>\n",
       "      <th>3</th>\n",
       "      <td>DESENHO COMPLETO PARTE 1 | LÁPIS | Nath Araújo</td>\n",
       "      <td>2022-08-06T13:14:13Z</td>\n",
       "      <td>2023-06-20 20:27:25.274901</td>\n",
       "      <td>26233</td>\n",
       "      <td>513192</td>\n",
       "      <td>0</td>\n",
       "      <td>580</td>\n",
       "    </tr>\n",
       "    <tr>\n",
       "      <th>4</th>\n",
       "      <td>Desenhando em 30 MINUTOS, 3 MINUTOS e 30 SEGUN...</td>\n",
       "      <td>2022-08-06T13:14:13Z</td>\n",
       "      <td>2023-06-20 20:27:25.274901</td>\n",
       "      <td>25548</td>\n",
       "      <td>448547</td>\n",
       "      <td>0</td>\n",
       "      <td>641</td>\n",
       "    </tr>\n",
       "  </tbody>\n",
       "</table>\n",
       "</div>"
      ],
      "text/plain": [
       "                                               title        published_date  \\\n",
       "0         COMO DESENHAR CORPO FEMININO | Nath Araújo  2022-08-06T13:14:13Z   \n",
       "1     MATERIAL CARO x BARATO | comparando marcadores  2022-08-06T13:14:13Z   \n",
       "2              DESENHE UM ROSTO COMIGO | Nath Araújo  2022-08-06T13:14:13Z   \n",
       "3     DESENHO COMPLETO PARTE 1 | LÁPIS | Nath Araújo  2022-08-06T13:14:13Z   \n",
       "4  Desenhando em 30 MINUTOS, 3 MINUTOS e 30 SEGUN...  2022-08-06T13:14:13Z   \n",
       "\n",
       "              extraction_date  liked     view fav comments  \n",
       "0  2023-06-20 20:27:25.274901  69315  1422836   0     1397  \n",
       "1  2023-06-20 20:27:25.274901  41530   736921   0     2121  \n",
       "2  2023-06-20 20:27:25.274901  35768   628204   0      597  \n",
       "3  2023-06-20 20:27:25.274901  26233   513192   0      580  \n",
       "4  2023-06-20 20:27:25.274901  25548   448547   0      641  "
      ]
     },
     "execution_count": 121,
     "metadata": {},
     "output_type": "execute_result"
    }
   ],
   "source": [
    "# Das variáveis que pre-selecionamos sigo com apenas uma variáel do tipo nominal (title), duas oridínarias (published_date e extraction_date) e as demais do tipo discreto. \n",
    "df = playlist_df[['title','published_date','extraction_date','liked','view','fav','comments']]\n",
    "df.head()"
   ]
  },
  {
   "cell_type": "code",
   "execution_count": 61,
   "metadata": {},
   "outputs": [
    {
     "name": "stdout",
     "output_type": "stream",
     "text": [
      "<class 'pandas.core.frame.DataFrame'>\n",
      "RangeIndex: 50 entries, 0 to 49\n",
      "Data columns (total 7 columns):\n",
      " #   Column           Non-Null Count  Dtype \n",
      "---  ------           --------------  ----- \n",
      " 0   title            50 non-null     object\n",
      " 1   published_date   50 non-null     object\n",
      " 2   extraction_date  50 non-null     object\n",
      " 3   liked            50 non-null     object\n",
      " 4   view             50 non-null     object\n",
      " 5   fav              50 non-null     object\n",
      " 6   comments         50 non-null     object\n",
      "dtypes: object(7)\n",
      "memory usage: 2.9+ KB\n"
     ]
    }
   ],
   "source": [
    "df.info()"
   ]
  },
  {
   "cell_type": "code",
   "execution_count": 64,
   "metadata": {},
   "outputs": [
    {
     "data": {
      "text/plain": [
       "title              object\n",
       "published_date     object\n",
       "extraction_date    object\n",
       "liked              object\n",
       "view               object\n",
       "fav                object\n",
       "comments           object\n",
       "dtype: object"
      ]
     },
     "execution_count": 64,
     "metadata": {},
     "output_type": "execute_result"
    }
   ],
   "source": [
    "df.dtypes"
   ]
  },
  {
   "cell_type": "code",
   "execution_count": 69,
   "metadata": {},
   "outputs": [
    {
     "name": "stderr",
     "output_type": "stream",
     "text": [
      "C:\\Users\\ninam\\AppData\\Local\\Temp\\ipykernel_12844\\1517716468.py:1: SettingWithCopyWarning: \n",
      "A value is trying to be set on a copy of a slice from a DataFrame.\n",
      "Try using .loc[row_indexer,col_indexer] = value instead\n",
      "\n",
      "See the caveats in the documentation: https://pandas.pydata.org/pandas-docs/stable/user_guide/indexing.html#returning-a-view-versus-a-copy\n",
      "  df['view'] = df['view'].astype(int)\n",
      "C:\\Users\\ninam\\AppData\\Local\\Temp\\ipykernel_12844\\1517716468.py:2: SettingWithCopyWarning: \n",
      "A value is trying to be set on a copy of a slice from a DataFrame.\n",
      "Try using .loc[row_indexer,col_indexer] = value instead\n",
      "\n",
      "See the caveats in the documentation: https://pandas.pydata.org/pandas-docs/stable/user_guide/indexing.html#returning-a-view-versus-a-copy\n",
      "  df['fav'] = df['fav'].astype(int)\n",
      "C:\\Users\\ninam\\AppData\\Local\\Temp\\ipykernel_12844\\1517716468.py:3: SettingWithCopyWarning: \n",
      "A value is trying to be set on a copy of a slice from a DataFrame.\n",
      "Try using .loc[row_indexer,col_indexer] = value instead\n",
      "\n",
      "See the caveats in the documentation: https://pandas.pydata.org/pandas-docs/stable/user_guide/indexing.html#returning-a-view-versus-a-copy\n",
      "  df['comments'] = df['comments'].astype(int)\n"
     ]
    }
   ],
   "source": [
    "df['liked'] = df['liked'].astype(int)\n",
    "df['view'] = df['view'].astype(int)\n",
    "df['fav'] = df['fav'].astype(int)\n",
    "df['comments'] = df['comments'].astype(int)"
   ]
  },
  {
   "cell_type": "code",
   "execution_count": 70,
   "metadata": {},
   "outputs": [
    {
     "data": {
      "text/plain": [
       "title              object\n",
       "published_date     object\n",
       "extraction_date    object\n",
       "liked               int32\n",
       "view                int32\n",
       "fav                 int32\n",
       "comments            int32\n",
       "dtype: object"
      ]
     },
     "execution_count": 70,
     "metadata": {},
     "output_type": "execute_result"
    }
   ],
   "source": [
    "df.dtypes"
   ]
  },
  {
   "cell_type": "code",
   "execution_count": 71,
   "metadata": {},
   "outputs": [
    {
     "data": {
      "text/html": [
       "<div>\n",
       "<style scoped>\n",
       "    .dataframe tbody tr th:only-of-type {\n",
       "        vertical-align: middle;\n",
       "    }\n",
       "\n",
       "    .dataframe tbody tr th {\n",
       "        vertical-align: top;\n",
       "    }\n",
       "\n",
       "    .dataframe thead th {\n",
       "        text-align: right;\n",
       "    }\n",
       "</style>\n",
       "<table border=\"1\" class=\"dataframe\">\n",
       "  <thead>\n",
       "    <tr style=\"text-align: right;\">\n",
       "      <th></th>\n",
       "      <th>liked</th>\n",
       "      <th>view</th>\n",
       "      <th>fav</th>\n",
       "      <th>comments</th>\n",
       "    </tr>\n",
       "  </thead>\n",
       "  <tbody>\n",
       "    <tr>\n",
       "      <th>count</th>\n",
       "      <td>50.000000</td>\n",
       "      <td>5.000000e+01</td>\n",
       "      <td>50.0</td>\n",
       "      <td>50.000000</td>\n",
       "    </tr>\n",
       "    <tr>\n",
       "      <th>mean</th>\n",
       "      <td>21228.640000</td>\n",
       "      <td>2.745672e+05</td>\n",
       "      <td>0.0</td>\n",
       "      <td>682.800000</td>\n",
       "    </tr>\n",
       "    <tr>\n",
       "      <th>std</th>\n",
       "      <td>9847.086454</td>\n",
       "      <td>2.068559e+05</td>\n",
       "      <td>0.0</td>\n",
       "      <td>427.144529</td>\n",
       "    </tr>\n",
       "    <tr>\n",
       "      <th>min</th>\n",
       "      <td>9894.000000</td>\n",
       "      <td>1.492300e+05</td>\n",
       "      <td>0.0</td>\n",
       "      <td>188.000000</td>\n",
       "    </tr>\n",
       "    <tr>\n",
       "      <th>25%</th>\n",
       "      <td>14989.750000</td>\n",
       "      <td>1.717320e+05</td>\n",
       "      <td>0.0</td>\n",
       "      <td>320.250000</td>\n",
       "    </tr>\n",
       "    <tr>\n",
       "      <th>50%</th>\n",
       "      <td>20214.500000</td>\n",
       "      <td>2.031505e+05</td>\n",
       "      <td>0.0</td>\n",
       "      <td>591.000000</td>\n",
       "    </tr>\n",
       "    <tr>\n",
       "      <th>75%</th>\n",
       "      <td>23538.500000</td>\n",
       "      <td>2.919640e+05</td>\n",
       "      <td>0.0</td>\n",
       "      <td>909.500000</td>\n",
       "    </tr>\n",
       "    <tr>\n",
       "      <th>max</th>\n",
       "      <td>69315.000000</td>\n",
       "      <td>1.422836e+06</td>\n",
       "      <td>0.0</td>\n",
       "      <td>2121.000000</td>\n",
       "    </tr>\n",
       "  </tbody>\n",
       "</table>\n",
       "</div>"
      ],
      "text/plain": [
       "              liked          view   fav     comments\n",
       "count     50.000000  5.000000e+01  50.0    50.000000\n",
       "mean   21228.640000  2.745672e+05   0.0   682.800000\n",
       "std     9847.086454  2.068559e+05   0.0   427.144529\n",
       "min     9894.000000  1.492300e+05   0.0   188.000000\n",
       "25%    14989.750000  1.717320e+05   0.0   320.250000\n",
       "50%    20214.500000  2.031505e+05   0.0   591.000000\n",
       "75%    23538.500000  2.919640e+05   0.0   909.500000\n",
       "max    69315.000000  1.422836e+06   0.0  2121.000000"
      ]
     },
     "execution_count": 71,
     "metadata": {},
     "output_type": "execute_result"
    }
   ],
   "source": [
    "df[['liked','view','fav','comments']].describe()"
   ]
  },
  {
   "cell_type": "code",
   "execution_count": 82,
   "metadata": {},
   "outputs": [
    {
     "data": {
      "image/png": "[encoded data removed]",
      "text/plain": [
       "<Figure size 1080x576 with 4 Axes>"
      ]
     },
     "metadata": {
      "needs_background": "light"
     },
     "output_type": "display_data"
    }
   ],
   "source": [
    "df.hist(bins=20, figsize=(15,8))\n",
    "plt.show()"
   ]
  },
  {
   "cell_type": "code",
   "execution_count": 90,
   "metadata": {},
   "outputs": [
    {
     "data": {
      "text/html": [
       "<div>\n",
       "<style scoped>\n",
       "    .dataframe tbody tr th:only-of-type {\n",
       "        vertical-align: middle;\n",
       "    }\n",
       "\n",
       "    .dataframe tbody tr th {\n",
       "        vertical-align: top;\n",
       "    }\n",
       "\n",
       "    .dataframe thead th {\n",
       "        text-align: right;\n",
       "    }\n",
       "</style>\n",
       "<table border=\"1\" class=\"dataframe\">\n",
       "  <thead>\n",
       "    <tr style=\"text-align: right;\">\n",
       "      <th></th>\n",
       "      <th>title</th>\n",
       "      <th>published_date</th>\n",
       "      <th>extraction_date</th>\n",
       "      <th>liked</th>\n",
       "      <th>view</th>\n",
       "      <th>fav</th>\n",
       "      <th>comments</th>\n",
       "    </tr>\n",
       "  </thead>\n",
       "  <tbody>\n",
       "    <tr>\n",
       "      <th>0</th>\n",
       "      <td>COMO DESENHAR CORPO FEMININO | Nath Araújo</td>\n",
       "      <td>2022-08-06T13:14:13Z</td>\n",
       "      <td>2023-06-20 20:27:25.274901</td>\n",
       "      <td>69315</td>\n",
       "      <td>1422836</td>\n",
       "      <td>0</td>\n",
       "      <td>1397</td>\n",
       "    </tr>\n",
       "  </tbody>\n",
       "</table>\n",
       "</div>"
      ],
      "text/plain": [
       "                                        title        published_date  \\\n",
       "0  COMO DESENHAR CORPO FEMININO | Nath Araújo  2022-08-06T13:14:13Z   \n",
       "\n",
       "              extraction_date  liked     view  fav  comments  \n",
       "0  2023-06-20 20:27:25.274901  69315  1422836    0      1397  "
      ]
     },
     "execution_count": 90,
     "metadata": {},
     "output_type": "execute_result"
    }
   ],
   "source": [
    "# Qual vídeo tem o maior número likes\n",
    "df.loc[df['liked']==df['liked'].max()]"
   ]
  },
  {
   "cell_type": "code",
   "execution_count": 77,
   "metadata": {},
   "outputs": [
    {
     "data": {
      "text/html": [
       "<div>\n",
       "<style scoped>\n",
       "    .dataframe tbody tr th:only-of-type {\n",
       "        vertical-align: middle;\n",
       "    }\n",
       "\n",
       "    .dataframe tbody tr th {\n",
       "        vertical-align: top;\n",
       "    }\n",
       "\n",
       "    .dataframe thead th {\n",
       "        text-align: right;\n",
       "    }\n",
       "</style>\n",
       "<table border=\"1\" class=\"dataframe\">\n",
       "  <thead>\n",
       "    <tr style=\"text-align: right;\">\n",
       "      <th></th>\n",
       "      <th>title</th>\n",
       "      <th>published_date</th>\n",
       "      <th>extraction_date</th>\n",
       "      <th>liked</th>\n",
       "      <th>view</th>\n",
       "      <th>fav</th>\n",
       "      <th>comments</th>\n",
       "    </tr>\n",
       "  </thead>\n",
       "  <tbody>\n",
       "    <tr>\n",
       "      <th>0</th>\n",
       "      <td>COMO DESENHAR CORPO FEMININO | Nath Araújo</td>\n",
       "      <td>2022-08-06T13:14:13Z</td>\n",
       "      <td>2023-06-20 20:27:25.274901</td>\n",
       "      <td>69315</td>\n",
       "      <td>1422836</td>\n",
       "      <td>0</td>\n",
       "      <td>1397</td>\n",
       "    </tr>\n",
       "  </tbody>\n",
       "</table>\n",
       "</div>"
      ],
      "text/plain": [
       "                                        title        published_date  \\\n",
       "0  COMO DESENHAR CORPO FEMININO | Nath Araújo  2022-08-06T13:14:13Z   \n",
       "\n",
       "              extraction_date  liked     view  fav  comments  \n",
       "0  2023-06-20 20:27:25.274901  69315  1422836    0      1397  "
      ]
     },
     "execution_count": 77,
     "metadata": {},
     "output_type": "execute_result"
    }
   ],
   "source": [
    "# Qual vídeo tem o maior número de visualização\n",
    "df.loc[df['view']==df['view'].max()]"
   ]
  },
  {
   "cell_type": "code",
   "execution_count": 78,
   "metadata": {},
   "outputs": [
    {
     "data": {
      "text/html": [
       "<div>\n",
       "<style scoped>\n",
       "    .dataframe tbody tr th:only-of-type {\n",
       "        vertical-align: middle;\n",
       "    }\n",
       "\n",
       "    .dataframe tbody tr th {\n",
       "        vertical-align: top;\n",
       "    }\n",
       "\n",
       "    .dataframe thead th {\n",
       "        text-align: right;\n",
       "    }\n",
       "</style>\n",
       "<table border=\"1\" class=\"dataframe\">\n",
       "  <thead>\n",
       "    <tr style=\"text-align: right;\">\n",
       "      <th></th>\n",
       "      <th>title</th>\n",
       "      <th>published_date</th>\n",
       "      <th>extraction_date</th>\n",
       "      <th>liked</th>\n",
       "      <th>view</th>\n",
       "      <th>fav</th>\n",
       "      <th>comments</th>\n",
       "    </tr>\n",
       "  </thead>\n",
       "  <tbody>\n",
       "    <tr>\n",
       "      <th>1</th>\n",
       "      <td>MATERIAL CARO x BARATO | comparando marcadores</td>\n",
       "      <td>2022-08-06T13:14:13Z</td>\n",
       "      <td>2023-06-20 20:27:25.274901</td>\n",
       "      <td>41530</td>\n",
       "      <td>736921</td>\n",
       "      <td>0</td>\n",
       "      <td>2121</td>\n",
       "    </tr>\n",
       "  </tbody>\n",
       "</table>\n",
       "</div>"
      ],
      "text/plain": [
       "                                            title        published_date  \\\n",
       "1  MATERIAL CARO x BARATO | comparando marcadores  2022-08-06T13:14:13Z   \n",
       "\n",
       "              extraction_date  liked    view  fav  comments  \n",
       "1  2023-06-20 20:27:25.274901  41530  736921    0      2121  "
      ]
     },
     "execution_count": 78,
     "metadata": {},
     "output_type": "execute_result"
    }
   ],
   "source": [
    "# Qual vídeo tem o maior número de visualização\n",
    "df.loc[df['comments']==df['comments'].max()]"
   ]
  },
  {
   "cell_type": "code",
   "execution_count": 91,
   "metadata": {},
   "outputs": [
    {
     "data": {
      "text/plain": [
       "(9894, 69315)"
      ]
     },
     "execution_count": 91,
     "metadata": {},
     "output_type": "execute_result"
    }
   ],
   "source": [
    "#Analisado faixas de likes\n",
    "df['liked'].min(), df['liked'].max()"
   ]
  },
  {
   "cell_type": "code",
   "execution_count": 108,
   "metadata": {},
   "outputs": [
    {
     "data": {
      "text/html": [
       "<div>\n",
       "<style scoped>\n",
       "    .dataframe tbody tr th:only-of-type {\n",
       "        vertical-align: middle;\n",
       "    }\n",
       "\n",
       "    .dataframe tbody tr th {\n",
       "        vertical-align: top;\n",
       "    }\n",
       "\n",
       "    .dataframe thead th {\n",
       "        text-align: right;\n",
       "    }\n",
       "</style>\n",
       "<table border=\"1\" class=\"dataframe\">\n",
       "  <thead>\n",
       "    <tr style=\"text-align: right;\">\n",
       "      <th></th>\n",
       "      <th>title</th>\n",
       "      <th>published_date</th>\n",
       "      <th>extraction_date</th>\n",
       "      <th>liked</th>\n",
       "      <th>view</th>\n",
       "      <th>fav</th>\n",
       "      <th>comments</th>\n",
       "    </tr>\n",
       "  </thead>\n",
       "  <tbody>\n",
       "    <tr>\n",
       "      <th>41</th>\n",
       "      <td>RECARREGANDO MINHA CANETA COPIC | Nath Araújo</td>\n",
       "      <td>2022-08-06T13:14:13Z</td>\n",
       "      <td>2023-06-20 20:27:25.274901</td>\n",
       "      <td>9997</td>\n",
       "      <td>162742</td>\n",
       "      <td>0</td>\n",
       "      <td>281</td>\n",
       "    </tr>\n",
       "    <tr>\n",
       "      <th>45</th>\n",
       "      <td>DESENHO COMPLETO PARTE 2 | PINTURA | Nath Araújo</td>\n",
       "      <td>2022-08-06T13:14:13Z</td>\n",
       "      <td>2023-06-20 20:27:25.274901</td>\n",
       "      <td>9894</td>\n",
       "      <td>154346</td>\n",
       "      <td>0</td>\n",
       "      <td>247</td>\n",
       "    </tr>\n",
       "  </tbody>\n",
       "</table>\n",
       "</div>"
      ],
      "text/plain": [
       "                                               title        published_date  \\\n",
       "41     RECARREGANDO MINHA CANETA COPIC | Nath Araújo  2022-08-06T13:14:13Z   \n",
       "45  DESENHO COMPLETO PARTE 2 | PINTURA | Nath Araújo  2022-08-06T13:14:13Z   \n",
       "\n",
       "               extraction_date  liked    view  fav  comments  \n",
       "41  2023-06-20 20:27:25.274901   9997  162742    0       281  \n",
       "45  2023-06-20 20:27:25.274901   9894  154346    0       247  "
      ]
     },
     "execution_count": 108,
     "metadata": {},
     "output_type": "execute_result"
    }
   ],
   "source": [
    "# Total de likes entre 0 e 10k\n",
    "df.loc[(df['liked'] >= 0)&(df['liked'] < 10000)]"
   ]
  },
  {
   "cell_type": "code",
   "execution_count": 118,
   "metadata": {},
   "outputs": [
    {
     "data": {
      "text/plain": [
       "(2, 22, 20, 4, 1, 0, 1)"
      ]
     },
     "execution_count": 118,
     "metadata": {},
     "output_type": "execute_result"
    }
   ],
   "source": [
    "df.loc[(df['liked'] >= 0)&(df['liked'] < 10000)].shape[0],\\\n",
    "df.loc[(df['liked'] >= 10000)&(df['liked'] < 20000)].shape[0],\\\n",
    "df.loc[(df['liked'] >= 20000)&(df['liked'] < 30000)].shape[0],\\\n",
    "df.loc[(df['liked'] >= 30000)&(df['liked'] < 40000)].shape[0],\\\n",
    "df.loc[(df['liked'] >= 40000)&(df['liked'] < 50000)].shape[0],\\\n",
    "df.loc[(df['liked'] >= 50000)&(df['liked'] < 60000)].shape[0],\\\n",
    "df.loc[(df['liked'] >= 60000)&(df['liked'] < 70000)].shape[0]"
   ]
  }
 ],
 "metadata": {
  "kernelspec": {
   "display_name": "api-yt",
   "language": "python",
   "name": "python3"
  },
  "language_info": {
   "codemirror_mode": {
    "name": "ipython",
    "version": 3
   },
   "file_extension": ".py",
   "mimetype": "text/x-python",
   "name": "python",
   "nbconvert_exporter": "python",
   "pygments_lexer": "ipython3",
   "version": "3.11.4"
  },
  "orig_nbformat": 4
 },
 "nbformat": 4,
 "nbformat_minor": 2
}
